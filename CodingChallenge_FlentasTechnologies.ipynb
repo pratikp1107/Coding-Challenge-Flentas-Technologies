{
  "nbformat": 4,
  "nbformat_minor": 0,
  "metadata": {
    "colab": {
      "provenance": []
    },
    "kernelspec": {
      "name": "python3",
      "display_name": "Python 3"
    },
    "language_info": {
      "name": "python"
    }
  },
  "cells": [
    {
      "cell_type": "markdown",
      "source": [
        "# Please find below the code and output:"
      ],
      "metadata": {
        "id": "3uDx1AvBKInc"
      }
    },
    {
      "cell_type": "code",
      "execution_count": null,
      "metadata": {
        "colab": {
          "base_uri": "https://localhost:8080/"
        },
        "id": "92xiR-VMHyxt",
        "outputId": "41a60a51-59ed-4959-dc7b-d3259d73ccbe"
      },
      "outputs": [
        {
          "output_type": "stream",
          "name": "stdout",
          "text": [
            "Enter number of test cases :3\n",
            "Enter 0 test case pattern : hack\n",
            "Enter 0 test case string : indiahacks\n",
            "YES\n",
            "Enter 1 test case pattern : code\n",
            "Enter 1 test case string : eddy\n",
            "NO\n",
            "Enter 2 test case pattern : coder\n",
            "Enter 2 test case string : iamredoc\n",
            "YES\n"
          ]
        }
      ],
      "source": [
        "n = int(input(\"Enter number of test cases :\"))\n",
        "for i in range(n):\n",
        "  str1 = input(f\"Enter {i} test case pattern : \")\n",
        "  str2 = input(f\"Enter {i} test case string : \")\n",
        "  if str1 in str2 or str1[::-1] in str2:\n",
        "    print(\"YES\")\n",
        "  else:\n",
        "    print(\"NO\")"
      ]
    },
    {
      "cell_type": "code",
      "source": [],
      "metadata": {
        "id": "aQtC-P8XKHKW"
      },
      "execution_count": null,
      "outputs": []
    }
  ]
}